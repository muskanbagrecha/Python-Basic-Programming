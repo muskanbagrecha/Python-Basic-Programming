{
 "cells": [
  {
   "cell_type": "markdown",
   "metadata": {},
   "source": [
    "# 1. Write a Python program to convert kilometers to miles?"
   ]
  },
  {
   "cell_type": "code",
   "execution_count": 1,
   "metadata": {},
   "outputs": [
    {
     "name": "stdout",
     "output_type": "stream",
     "text": [
      "Enter the value in kms: 5\n",
      "5km = 3.10685595 miles\n"
     ]
    }
   ],
   "source": [
    "def convert_kilometers(km):\n",
    "    '''\n",
    "    This function converts kilometers to miles.\n",
    "    It takes one argument (km) which should be greater than 0.\n",
    "    '''\n",
    "    if km<0:\n",
    "        return \"Invalid value\"\n",
    "    return f\"{km}km = {km*0.62137119} miles\"\n",
    "a = int(input(\"Enter the value in kms: \"))\n",
    "print(convert_kilometers(a))"
   ]
  },
  {
   "cell_type": "markdown",
   "metadata": {},
   "source": [
    "# 2. Write a Python program to convert Celsius to Fahrenheit?"
   ]
  },
  {
   "cell_type": "code",
   "execution_count": 2,
   "metadata": {},
   "outputs": [
    {
     "name": "stdout",
     "output_type": "stream",
     "text": [
      "Enter the value in Celsius: 30\n",
      "30°C in Fahrenheit = 86.0°F\n"
     ]
    }
   ],
   "source": [
    "def convert_celsius(cel):\n",
    "    '''\n",
    "    This function converts temperature from Celsius to Fahrenheit.\n",
    "    It takes one argument (°C).\n",
    "    '''\n",
    "    return f\"{cel}°C in Fahrenheit = {cel * 1.8 + 32}°F\"\n",
    "a = int(input(\"Enter the value in Celsius: \"))\n",
    "print(convert_celsius(a))"
   ]
  },
  {
   "cell_type": "markdown",
   "metadata": {},
   "source": [
    "# 3. Write a Python program to display calendar?"
   ]
  },
  {
   "cell_type": "code",
   "execution_count": 4,
   "metadata": {},
   "outputs": [
    {
     "name": "stdout",
     "output_type": "stream",
     "text": [
      "Enter M if you want to display the calender for a particular month, Y for a particular year.M\n",
      "Enter the month in MM format07\n",
      "Enter the year in YYYY format\n",
      "1999\n",
      "     July 1999\n",
      "Mo Tu We Th Fr Sa Su\n",
      "          1  2  3  4\n",
      " 5  6  7  8  9 10 11\n",
      "12 13 14 15 16 17 18\n",
      "19 20 21 22 23 24 25\n",
      "26 27 28 29 30 31\n",
      "\n"
     ]
    }
   ],
   "source": [
    "import calendar\n",
    "choice = input(\"Enter M if you want to display the calender for a particular month, Y for a particular year.\")\n",
    "if choice.lower()==\"m\":\n",
    "    month = int(input(\"Enter the month in MM format\"))\n",
    "    year = int(input(\"Enter the year in YYYY format\\n\"))\n",
    "    print(calendar.month(year,month))\n",
    "else:\n",
    "    year = int(input(\"Enter the year in YYYY format\\n\"))\n",
    "    print(calendar.calendar(month))"
   ]
  },
  {
   "cell_type": "markdown",
   "metadata": {},
   "source": [
    "# 4. Write a Python program to solve quadratic equation?"
   ]
  },
  {
   "cell_type": "code",
   "execution_count": 5,
   "metadata": {},
   "outputs": [
    {
     "name": "stdout",
     "output_type": "stream",
     "text": [
      "Enter a,b,c: 1 5 6\n",
      "roots are real and distinct\n",
      "Roots are x1 = -2.0 and x2 = -3.0\n"
     ]
    }
   ],
   "source": [
    "def quadratic(a,b,c):\n",
    "    D = b**2 - 4*a*c\n",
    "    if D>0:\n",
    "        print(\"roots are real and distinct\")\n",
    "    elif D==0:\n",
    "        print(\"roots are real and equal\")\n",
    "    else:\n",
    "        print(\"roots are imaginary\")\n",
    "    x1 = (-b + D)/(2*a)\n",
    "    x2 = (-b - D)/(2*a)\n",
    "    print(f\"Roots are x1 = {x1} and x2 = {x2}\")\n",
    "a,b,c = map(int,input(\"Enter a,b,c: \").split())\n",
    "quadratic(a,b,c)"
   ]
  },
  {
   "cell_type": "markdown",
   "metadata": {},
   "source": [
    "# 5. Write a Python program to swap two variables without temp variable?"
   ]
  },
  {
   "cell_type": "code",
   "execution_count": 6,
   "metadata": {},
   "outputs": [
    {
     "name": "stdout",
     "output_type": "stream",
     "text": [
      "Enter a and b: 3 8\n",
      "Swapped values a: 8, b: 3\n"
     ]
    }
   ],
   "source": [
    "def swap(a,b):\n",
    "    a=a+b\n",
    "    b=a-b\n",
    "    a=a-b\n",
    "    print(f\"Swapped values a: {a}, b: {b}\")\n",
    "a,b = map(int, input(\"Enter a and b: \").split())\n",
    "swap(a,b)"
   ]
  }
 ],
 "metadata": {
  "kernelspec": {
   "display_name": "Python 3",
   "language": "python",
   "name": "python3"
  },
  "language_info": {
   "codemirror_mode": {
    "name": "ipython",
    "version": 3
   },
   "file_extension": ".py",
   "mimetype": "text/x-python",
   "name": "python",
   "nbconvert_exporter": "python",
   "pygments_lexer": "ipython3",
   "version": "3.8.5"
  }
 },
 "nbformat": 4,
 "nbformat_minor": 4
}
