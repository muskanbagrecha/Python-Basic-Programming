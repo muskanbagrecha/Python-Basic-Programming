{
 "cells": [
  {
   "cell_type": "markdown",
   "metadata": {},
   "source": [
    "# Question 1:\n",
    "    \n",
    "Write a program that calculates and prints the value according to the given formula:\n",
    "    \n",
    "Q = Square root of [(2 * C * D)/H]\n",
    "\n",
    "Following are the fixed values of C and H:\n",
    "    \n",
    "C is 50. H is 30.\n",
    "\n",
    "D is the variable whose values should be input to your program in a comma-separated\n",
    "\n",
    "sequence."
   ]
  },
  {
   "cell_type": "code",
   "execution_count": 19,
   "metadata": {},
   "outputs": [
    {
     "name": "stdout",
     "output_type": "stream",
     "text": [
      "Enter the comma separated sequence: 100,150,180\n",
      "18,22,24\n"
     ]
    }
   ],
   "source": [
    "import math\n",
    "def func():\n",
    "    C = 50\n",
    "    H = 30\n",
    "    D = list(map(int,input(\"Enter the comma separated sequence: \").split(\",\")))\n",
    "    for i,item in enumerate(D):\n",
    "        Q = math.sqrt((2*C*item)/H)\n",
    "        if i==len(D)-1:\n",
    "            print(int(round(Q)))\n",
    "        else:\n",
    "            print(int(round(Q)), end=\",\")\n",
    "func()"
   ]
  },
  {
   "cell_type": "markdown",
   "metadata": {},
   "source": [
    "# Question 2:\n",
    "\n",
    "Write a program which takes 2 digits, X,Y as input and generates a 2-dimensional array.\n",
    "\n",
    "The element value in the i-th row and j-th column of the array should be i*j.\n",
    "\n",
    "Note: i=0,1.., X-1; j=0,1,¡Y-1."
   ]
  },
  {
   "cell_type": "code",
   "execution_count": 41,
   "metadata": {},
   "outputs": [],
   "source": [
    "def make_array():\n",
    "    X, Y = list(map(int, input().split(\",\")))\n",
    "    matrix = [[0 for x in range(Y)] for y in range(X)]\n",
    "    for i in range(X):\n",
    "        for j in range(Y):\n",
    "            matrix[i][j] = i*j\n",
    "    print(matrix)"
   ]
  },
  {
   "cell_type": "code",
   "execution_count": 42,
   "metadata": {},
   "outputs": [
    {
     "name": "stdout",
     "output_type": "stream",
     "text": [
      "3,5\n",
      "[[0, 0, 0, 0, 0], [0, 1, 2, 3, 4], [0, 2, 4, 6, 8]]\n"
     ]
    }
   ],
   "source": [
    "make_array()"
   ]
  },
  {
   "cell_type": "markdown",
   "metadata": {},
   "source": [
    "# Question 3:\n",
    "\n",
    "Write a program that accepts a comma separated sequence of words as input and prints the words in a comma-separated sequence after sorting them alphabetically."
   ]
  },
  {
   "cell_type": "code",
   "execution_count": 17,
   "metadata": {},
   "outputs": [],
   "source": [
    "def sort_words():\n",
    "    words = list(input().split(\",\"))\n",
    "    words.sort()\n",
    "    for i, word in enumerate(words):\n",
    "        if i==len(words)-1:\n",
    "            print(word)\n",
    "        else:\n",
    "            print(word, end = ',')"
   ]
  },
  {
   "cell_type": "code",
   "execution_count": 18,
   "metadata": {},
   "outputs": [
    {
     "name": "stdout",
     "output_type": "stream",
     "text": [
      "without,hello,bag,world\n",
      "bag,hello,without,world\n"
     ]
    }
   ],
   "source": [
    "sort_words()"
   ]
  },
  {
   "cell_type": "markdown",
   "metadata": {},
   "source": [
    "# Question 4:\n",
    "Write a program that accepts a sequence of whitespace separated words as input and prints\n",
    "the words after removing all duplicate words and sorting them alphanumerically."
   ]
  },
  {
   "cell_type": "code",
   "execution_count": 28,
   "metadata": {},
   "outputs": [],
   "source": [
    "def sort_words2():\n",
    "    words = list(set(input(\"Enter string: \").split(\" \")))\n",
    "    words.sort()\n",
    "    print(\"Output: \")\n",
    "    for word in words:\n",
    "        print(word, end=\" \")"
   ]
  },
  {
   "cell_type": "code",
   "execution_count": 29,
   "metadata": {},
   "outputs": [
    {
     "name": "stdout",
     "output_type": "stream",
     "text": [
      "Enter string: hello world and practice makes perfect and hello world again\n",
      "Output: \n",
      "again and hello makes perfect practice world "
     ]
    }
   ],
   "source": [
    "sort_words2()"
   ]
  },
  {
   "cell_type": "markdown",
   "metadata": {},
   "source": [
    "# Question 5:\n",
    "Write a program that accepts a sentence and calculate the number of letters and digits."
   ]
  },
  {
   "cell_type": "code",
   "execution_count": 30,
   "metadata": {},
   "outputs": [],
   "source": [
    "def counter():\n",
    "    string = input()\n",
    "    ltr = digit = 0\n",
    "    for char in string:\n",
    "        if char.isalpha():\n",
    "            ltr+=1\n",
    "        elif char.isdigit():\n",
    "            digit+=1\n",
    "    print(f\"LETTERS {ltr}\")\n",
    "    print(f\"DIGITS {digit}\")"
   ]
  },
  {
   "cell_type": "code",
   "execution_count": 33,
   "metadata": {},
   "outputs": [
    {
     "name": "stdout",
     "output_type": "stream",
     "text": [
      "hello world! 123\n",
      "LETTERS 10\n",
      "DIGITS 3\n"
     ]
    }
   ],
   "source": [
    "counter()"
   ]
  },
  {
   "cell_type": "markdown",
   "metadata": {},
   "source": [
    "# Question 6:\n",
    "A website requires the users to input username and password to register. Write a program to\n",
    "check the validity of password input by users.\n",
    "Following are the criteria for checking the password:\n",
    "1. At least 1 letter between [a-z]\n",
    "2. At least 1 number between [0-9]\n",
    "1. At least 1 letter between [A-Z]\n",
    "3. At least 1 character from [$#@]\n",
    "4. Minimum length of transaction password: 6\n",
    "5. Maximum length of transaction password: 12\n",
    "Your program should accept a sequence of comma separated passwords and will check them\n",
    "according to the above criteria. Passwords that match the criteria are to be printed, each\n",
    "separated by a comma."
   ]
  },
  {
   "cell_type": "code",
   "execution_count": 40,
   "metadata": {},
   "outputs": [
    {
     "name": "stdout",
     "output_type": "stream",
     "text": [
      "Enter passwords: ABd1234@1,a F1#,2w3E*,2We3345\n",
      "ABd1234@1\n"
     ]
    }
   ],
   "source": [
    "def validate_password(password):\n",
    "    if len(password)<6 or len(password)>12:\n",
    "        return False\n",
    "    lower = 0\n",
    "    upper = 0\n",
    "    number = 0\n",
    "    character = 0\n",
    "    for char in password:\n",
    "        if char.islower():\n",
    "            lower+=1\n",
    "        elif char.isupper():\n",
    "            upper+=1\n",
    "        elif char.isdigit():\n",
    "            number+=1\n",
    "        elif char in ['$','#','@']:\n",
    "            character+=1\n",
    "    if lower==0 or upper==0 or number == 0 or character ==0:\n",
    "        return False\n",
    "    return True\n",
    "\n",
    "passwords = list(input(\"Enter passwords: \").split(\",\"))\n",
    "for password in passwords:\n",
    "    if validate_password(password):\n",
    "        print(password)"
   ]
  }
 ],
 "metadata": {
  "kernelspec": {
   "display_name": "Python 3",
   "language": "python",
   "name": "python3"
  },
  "language_info": {
   "codemirror_mode": {
    "name": "ipython",
    "version": 3
   },
   "file_extension": ".py",
   "mimetype": "text/x-python",
   "name": "python",
   "nbconvert_exporter": "python",
   "pygments_lexer": "ipython3",
   "version": "3.8.5"
  }
 },
 "nbformat": 4,
 "nbformat_minor": 4
}
