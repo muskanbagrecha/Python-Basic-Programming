{
 "cells": [
  {
   "cell_type": "markdown",
   "metadata": {},
   "source": [
    "# 1. Write a Python program to find sum of elements in list?"
   ]
  },
  {
   "cell_type": "code",
   "execution_count": 1,
   "metadata": {},
   "outputs": [
    {
     "name": "stdout",
     "output_type": "stream",
     "text": [
      "5\n",
      "Enter elements: 2 7 8 10 12\n",
      "39\n"
     ]
    }
   ],
   "source": [
    "n = input()\n",
    "l = [int(x) for x in input(\"Enter elements: \").split(\" \")]\n",
    "print(sum(l))"
   ]
  },
  {
   "cell_type": "code",
   "execution_count": 2,
   "metadata": {},
   "outputs": [
    {
     "name": "stdout",
     "output_type": "stream",
     "text": [
      "39\n"
     ]
    }
   ],
   "source": [
    "#Second way\n",
    "sum=0\n",
    "for i in l:\n",
    "    sum+=i\n",
    "print(sum)"
   ]
  },
  {
   "cell_type": "markdown",
   "metadata": {},
   "source": [
    "# 2. Write a Python program to Multiply all numbers in the list?"
   ]
  },
  {
   "cell_type": "code",
   "execution_count": 1,
   "metadata": {},
   "outputs": [
    {
     "name": "stdout",
     "output_type": "stream",
     "text": [
      "5\n",
      "Enter elements: 2 4 6 2 9\n",
      "864\n"
     ]
    }
   ],
   "source": [
    "from functools import reduce\n",
    "n = input()\n",
    "l = [int(x) for x in input(\"Enter elements: \").split(\" \")]\n",
    "res = reduce(lambda x,y:x*y, l)\n",
    "print(res)"
   ]
  },
  {
   "cell_type": "code",
   "execution_count": 4,
   "metadata": {},
   "outputs": [
    {
     "name": "stdout",
     "output_type": "stream",
     "text": [
      "5\n",
      "Enter elements: 2 4 6 2 9\n",
      "864\n"
     ]
    }
   ],
   "source": [
    "#Method 2\n",
    "n = input()\n",
    "l = [int(x) for x in input(\"Enter elements: \").split(\" \")]\n",
    "prod = 1\n",
    "for x in l:\n",
    "    prod = prod*x\n",
    "print(prod)"
   ]
  },
  {
   "cell_type": "markdown",
   "metadata": {},
   "source": [
    "# 3. Write a Python program to find smallest number in a list?"
   ]
  },
  {
   "cell_type": "code",
   "execution_count": 5,
   "metadata": {},
   "outputs": [
    {
     "name": "stdout",
     "output_type": "stream",
     "text": [
      "5\n",
      "Enter elements: 2 7 12 1 10\n",
      "1\n"
     ]
    }
   ],
   "source": [
    "n = input()\n",
    "l = [int(x) for x in input(\"Enter elements: \").split(\" \")]\n",
    "print(min(l))"
   ]
  },
  {
   "cell_type": "code",
   "execution_count": 6,
   "metadata": {},
   "outputs": [
    {
     "name": "stdout",
     "output_type": "stream",
     "text": [
      "1\n"
     ]
    }
   ],
   "source": [
    "#Method 2\n",
    "min_val = l[0]\n",
    "for i in l:\n",
    "    if i<min_val:\n",
    "        min_val=i\n",
    "print(min_val)"
   ]
  },
  {
   "cell_type": "markdown",
   "metadata": {},
   "source": [
    "# 4. Write a Python program to find largest number in a list?"
   ]
  },
  {
   "cell_type": "code",
   "execution_count": 7,
   "metadata": {},
   "outputs": [
    {
     "name": "stdout",
     "output_type": "stream",
     "text": [
      "5\n",
      "Enter elements: 2 7 12 1 10\n",
      "12\n"
     ]
    }
   ],
   "source": [
    "n = input()\n",
    "l = [int(x) for x in input(\"Enter elements: \").split(\" \")]\n",
    "print(max(l))"
   ]
  },
  {
   "cell_type": "code",
   "execution_count": 8,
   "metadata": {},
   "outputs": [
    {
     "name": "stdout",
     "output_type": "stream",
     "text": [
      "12\n"
     ]
    }
   ],
   "source": [
    "#Method 2\n",
    "max_val = l[0]\n",
    "for i in l:\n",
    "    if i>max_val:\n",
    "        max_val=i\n",
    "print(max_val)"
   ]
  },
  {
   "cell_type": "markdown",
   "metadata": {},
   "source": [
    "# 5. Write a Python program to find second largest number in a list?"
   ]
  },
  {
   "cell_type": "code",
   "execution_count": 9,
   "metadata": {},
   "outputs": [
    {
     "name": "stdout",
     "output_type": "stream",
     "text": [
      "5\n",
      "Enter elements: 2 7 12 1 10\n",
      "10\n"
     ]
    }
   ],
   "source": [
    "n = input()\n",
    "l = [int(x) for x in input(\"Enter elements: \").split(\" \")]\n",
    "max_num = max(l)\n",
    "new_l = set(l)\n",
    "new_l.remove(max_num)\n",
    "print(max(new_l))"
   ]
  },
  {
   "cell_type": "code",
   "execution_count": 10,
   "metadata": {},
   "outputs": [
    {
     "name": "stdout",
     "output_type": "stream",
     "text": [
      "10\n"
     ]
    }
   ],
   "source": [
    "#Method 2\n",
    "first_max = max(l[0],l[1])\n",
    "second_max = min(l[0], l[1])\n",
    "for i in range(2, len(l)):\n",
    "    if first_max>l[i]:\n",
    "        second_max = first_max\n",
    "        first_max = l[i]\n",
    "    elif second_max<l[i] and first_max!=l[i]:\n",
    "        second_max=l[i]\n",
    "print(second_max)"
   ]
  },
  {
   "cell_type": "markdown",
   "metadata": {},
   "source": [
    "# 6. Write a Python program to find N largest elements from a list?"
   ]
  },
  {
   "cell_type": "code",
   "execution_count": 27,
   "metadata": {},
   "outputs": [
    {
     "name": "stdout",
     "output_type": "stream",
     "text": [
      "Enter elements: 2312 13 122 45 23 349 23 6 24 23 10 -42 -24 213\n",
      "Enter N5\n",
      "2312\n",
      "349\n",
      "213\n",
      "122\n",
      "45\n"
     ]
    }
   ],
   "source": [
    "l = [int(x) for x in input(\"Enter elements: \").split(\" \")]\n",
    "N = int(input(\"Enter N\"))\n",
    "def n_largest(l, N):\n",
    "    for i in range(N):\n",
    "        mx = l[0]\n",
    "        for j in range(1, len(l)):\n",
    "            if l[j]>mx:\n",
    "                mx = l[j]\n",
    "        print(mx)\n",
    "        l.remove(mx)\n",
    "n_largest(l, N)"
   ]
  },
  {
   "cell_type": "markdown",
   "metadata": {},
   "source": [
    "# 7. Write a Python program to print even numbers in a list?"
   ]
  },
  {
   "cell_type": "code",
   "execution_count": 13,
   "metadata": {},
   "outputs": [
    {
     "name": "stdout",
     "output_type": "stream",
     "text": [
      "5\n",
      "Enter elements: 10 9 5 8 12\n",
      "['10', '8', '12']\n"
     ]
    }
   ],
   "source": [
    "n = input()\n",
    "l = [x for x in input(\"Enter elements: \").split(\" \") if int(x)%2==0]\n",
    "print(l)"
   ]
  },
  {
   "cell_type": "markdown",
   "metadata": {},
   "source": [
    "# 8. Write a Python program to print odd numbers in a List?"
   ]
  },
  {
   "cell_type": "code",
   "execution_count": 14,
   "metadata": {},
   "outputs": [
    {
     "name": "stdout",
     "output_type": "stream",
     "text": [
      "5\n",
      "Enter elements: 10 9 5 8 12\n",
      "['9', '5']\n"
     ]
    }
   ],
   "source": [
    "n = input()\n",
    "l = [x for x in input(\"Enter elements: \").split(\" \") if int(x)%2!=0]\n",
    "print(l)"
   ]
  },
  {
   "cell_type": "markdown",
   "metadata": {},
   "source": [
    "# 9. Write a Python program to Remove empty List from List?"
   ]
  },
  {
   "cell_type": "code",
   "execution_count": 18,
   "metadata": {},
   "outputs": [
    {
     "name": "stdout",
     "output_type": "stream",
     "text": [
      "None\n"
     ]
    }
   ],
   "source": [
    "li = [[],\"dsdc\",3]\n",
    "print(li.remove([]))"
   ]
  },
  {
   "cell_type": "markdown",
   "metadata": {},
   "source": [
    "# 10. Write a Python program to Cloning or Copying a list?"
   ]
  },
  {
   "cell_type": "code",
   "execution_count": 19,
   "metadata": {},
   "outputs": [
    {
     "name": "stdout",
     "output_type": "stream",
     "text": [
      "[34, 124, 42, 12, 645]\n"
     ]
    }
   ],
   "source": [
    "l1 = [34,124,42,12,645]\n",
    "l2 = l1[:] #Fastest method of cloning/copying\n",
    "print(l2)"
   ]
  },
  {
   "cell_type": "code",
   "execution_count": 20,
   "metadata": {},
   "outputs": [
    {
     "name": "stdout",
     "output_type": "stream",
     "text": [
      "[34, 124, 42, 12, 645]\n"
     ]
    }
   ],
   "source": [
    "#Method 2: \n",
    "l1 = [34,124,42,12,645]\n",
    "l3 = list(l1)\n",
    "print(l3)"
   ]
  },
  {
   "cell_type": "markdown",
   "metadata": {},
   "source": [
    "# 11. Write a Python program to Count occurrences of an element in a list?"
   ]
  },
  {
   "cell_type": "code",
   "execution_count": 23,
   "metadata": {},
   "outputs": [
    {
     "name": "stdout",
     "output_type": "stream",
     "text": [
      "Enter size of the list8\n",
      "Enter elements: 1 4 10 8 4 2 4\n",
      "Enter element to be counted4\n"
     ]
    },
    {
     "data": {
      "text/plain": [
       "3"
      ]
     },
     "execution_count": 23,
     "metadata": {},
     "output_type": "execute_result"
    }
   ],
   "source": [
    "n = int(input(\"Enter size of the list\"))\n",
    "l = [int(x) for x in input(\"Enter elements: \").split(\" \")]\n",
    "count_ele = int(input(\"Enter element to be counted\"))\n",
    "l.count(count_ele)"
   ]
  },
  {
   "cell_type": "code",
   "execution_count": 24,
   "metadata": {},
   "outputs": [
    {
     "name": "stdout",
     "output_type": "stream",
     "text": [
      "Freq: 3\n"
     ]
    }
   ],
   "source": [
    "#Method 2:\n",
    "ctr=0\n",
    "for i in l:\n",
    "    if count_ele == i:\n",
    "        ctr+=1\n",
    "print(f\"Freq: {ctr}\")"
   ]
  }
 ],
 "metadata": {
  "kernelspec": {
   "display_name": "Python 3",
   "language": "python",
   "name": "python3"
  },
  "language_info": {
   "codemirror_mode": {
    "name": "ipython",
    "version": 3
   },
   "file_extension": ".py",
   "mimetype": "text/x-python",
   "name": "python",
   "nbconvert_exporter": "python",
   "pygments_lexer": "ipython3",
   "version": "3.8.5"
  }
 },
 "nbformat": 4,
 "nbformat_minor": 4
}
