{
 "cells": [
  {
   "cell_type": "markdown",
   "metadata": {},
   "source": [
    "# 1. Write a Python program to find words which are greater than given length k?"
   ]
  },
  {
   "cell_type": "code",
   "execution_count": 1,
   "metadata": {},
   "outputs": [],
   "source": [
    "res = lambda word, k : True if len(word)>k else False"
   ]
  },
  {
   "cell_type": "code",
   "execution_count": 3,
   "metadata": {},
   "outputs": [
    {
     "data": {
      "text/plain": [
       "False"
      ]
     },
     "execution_count": 3,
     "metadata": {},
     "output_type": "execute_result"
    }
   ],
   "source": [
    "res(\"Muskan\",10)"
   ]
  },
  {
   "cell_type": "code",
   "execution_count": 4,
   "metadata": {},
   "outputs": [
    {
     "data": {
      "text/plain": [
       "True"
      ]
     },
     "execution_count": 4,
     "metadata": {},
     "output_type": "execute_result"
    }
   ],
   "source": [
    "res(\"iNeuron\",3)"
   ]
  },
  {
   "cell_type": "code",
   "execution_count": 7,
   "metadata": {},
   "outputs": [],
   "source": [
    "para = \"Generating random paragraphs can be an excellent way for writers to get their creative flow going at the beginning of the day. The writer has no idea what topic the random paragraph will be about when it appears. This forces the writer to use creativity to complete one of three common writing challenges. The writer can use the paragraph as the first one of a short story and build upon it. A second option is to use the random paragraph somewhere in a short story they create. The third option is to have the random paragraph be the ending paragraph in a short story. No matter which of these challenges is undertaken, the writer is forced to use creativity to incorporate the paragraph into their writing.\""
   ]
  },
  {
   "cell_type": "code",
   "execution_count": 11,
   "metadata": {},
   "outputs": [
    {
     "name": "stdout",
     "output_type": "stream",
     "text": [
      "Generating\n",
      "paragraphs\n",
      "excellent\n",
      "creative\n",
      "beginning\n",
      "paragraph\n",
      "appears.\n",
      "creativity\n",
      "complete\n",
      "challenges.\n",
      "paragraph\n",
      "paragraph\n",
      "somewhere\n",
      "paragraph\n",
      "paragraph\n",
      "challenges\n",
      "undertaken,\n",
      "creativity\n",
      "incorporate\n",
      "paragraph\n",
      "writing.\n"
     ]
    }
   ],
   "source": [
    "for word in para.split(\" \"):\n",
    "    if res(word, 7):\n",
    "        print(word)"
   ]
  },
  {
   "cell_type": "markdown",
   "metadata": {},
   "source": [
    "# 2. Write a Python program for removing i-th character from a string?"
   ]
  },
  {
   "cell_type": "code",
   "execution_count": 23,
   "metadata": {},
   "outputs": [],
   "source": [
    "def func(string, i):\n",
    "    if i>len(string) or i<0:\n",
    "        return \"Invalid input\"\n",
    "    new_string = string.replace(string[i],\"\")\n",
    "    return new_string\n"
   ]
  },
  {
   "cell_type": "code",
   "execution_count": 20,
   "metadata": {},
   "outputs": [
    {
     "name": "stdout",
     "output_type": "stream",
     "text": [
      "Olympics\n",
      "3\n"
     ]
    },
    {
     "data": {
      "text/plain": [
       "'Olypics'"
      ]
     },
     "execution_count": 20,
     "metadata": {},
     "output_type": "execute_result"
    }
   ],
   "source": [
    "string = input()\n",
    "i = int(input())\n",
    "func(string, i)"
   ]
  },
  {
   "cell_type": "code",
   "execution_count": 24,
   "metadata": {},
   "outputs": [
    {
     "name": "stdout",
     "output_type": "stream",
     "text": [
      "Tokyo\n",
      "10\n"
     ]
    },
    {
     "data": {
      "text/plain": [
       "'Invalid input'"
      ]
     },
     "execution_count": 24,
     "metadata": {},
     "output_type": "execute_result"
    }
   ],
   "source": [
    "string = input()\n",
    "i = int(input())\n",
    "func(string, i)"
   ]
  },
  {
   "cell_type": "markdown",
   "metadata": {},
   "source": [
    "# 3. Write a Python program to split and join a string?"
   ]
  },
  {
   "cell_type": "code",
   "execution_count": 27,
   "metadata": {},
   "outputs": [],
   "source": [
    "def split_and_join(string,char):\n",
    "    words = string.split(\" \")\n",
    "    new_string = char.join(words)\n",
    "    return new_string"
   ]
  },
  {
   "cell_type": "code",
   "execution_count": 28,
   "metadata": {},
   "outputs": [
    {
     "data": {
      "text/plain": [
       "'Generating-random-paragraphs-can-be-an-excellent-way-for-writers-to-get-their-creative-flow-going-at-the-beginning-of-the-day.-The-writer-has-no-idea-what-topic-the-random-paragraph-will-be-about-when-it-appears.-This-forces-the-writer-to-use-creativity-to-complete-one-of-three-common-writing-challenges.-The-writer-can-use-the-paragraph-as-the-first-one-of-a-short-story-and-build-upon-it.-A-second-option-is-to-use-the-random-paragraph-somewhere-in-a-short-story-they-create.-The-third-option-is-to-have-the-random-paragraph-be-the-ending-paragraph-in-a-short-story.-No-matter-which-of-these-challenges-is-undertaken,-the-writer-is-forced-to-use-creativity-to-incorporate-the-paragraph-into-their-writing.'"
      ]
     },
     "execution_count": 28,
     "metadata": {},
     "output_type": "execute_result"
    }
   ],
   "source": [
    "split_and_join(para, '-')"
   ]
  },
  {
   "cell_type": "markdown",
   "metadata": {},
   "source": [
    "# 4. Write a Python to check if a given string is binary string or not?"
   ]
  },
  {
   "cell_type": "code",
   "execution_count": 32,
   "metadata": {},
   "outputs": [],
   "source": [
    "def check_binary(string):\n",
    "    l = list(string)\n",
    "    for ch in l:\n",
    "        if ch!='0' and ch!='1':\n",
    "            return False\n",
    "    return True"
   ]
  },
  {
   "cell_type": "code",
   "execution_count": 33,
   "metadata": {},
   "outputs": [
    {
     "data": {
      "text/plain": [
       "True"
      ]
     },
     "execution_count": 33,
     "metadata": {},
     "output_type": "execute_result"
    }
   ],
   "source": [
    "check_binary('011010101')"
   ]
  },
  {
   "cell_type": "code",
   "execution_count": 34,
   "metadata": {},
   "outputs": [
    {
     "data": {
      "text/plain": [
       "False"
      ]
     },
     "execution_count": 34,
     "metadata": {},
     "output_type": "execute_result"
    }
   ],
   "source": [
    "check_binary('011fsd0a10101')"
   ]
  },
  {
   "cell_type": "code",
   "execution_count": 44,
   "metadata": {},
   "outputs": [],
   "source": [
    "# Using sets\n",
    "\n",
    "def binary(string):\n",
    "    ss = set(string)\n",
    "    if ss!={'0','1'} and ss!={'0'} and ss!={'1'}:\n",
    "        return False\n",
    "    return True"
   ]
  },
  {
   "cell_type": "code",
   "execution_count": 45,
   "metadata": {},
   "outputs": [
    {
     "data": {
      "text/plain": [
       "False"
      ]
     },
     "execution_count": 45,
     "metadata": {},
     "output_type": "execute_result"
    }
   ],
   "source": [
    "binary('13123')"
   ]
  },
  {
   "cell_type": "code",
   "execution_count": 46,
   "metadata": {},
   "outputs": [
    {
     "data": {
      "text/plain": [
       "True"
      ]
     },
     "execution_count": 46,
     "metadata": {},
     "output_type": "execute_result"
    }
   ],
   "source": [
    "binary('11111')"
   ]
  },
  {
   "cell_type": "markdown",
   "metadata": {},
   "source": [
    "# 5. Write a Python program to find uncommon words from two Strings?"
   ]
  },
  {
   "cell_type": "code",
   "execution_count": 63,
   "metadata": {},
   "outputs": [],
   "source": [
    "import re\n",
    "def uncommon_words(str1, str2):\n",
    "    str1 = re.sub(r'[^\\w\\s]','',str1)\n",
    "    str2 = re.sub(r'[^\\w\\s]','', str2)\n",
    "    l1 = set(str1.split(\" \"))\n",
    "    l2 = set(str2.split(\" \"))\n",
    "    print(l1.symmetric_difference(l2))"
   ]
  },
  {
   "cell_type": "code",
   "execution_count": 64,
   "metadata": {},
   "outputs": [
    {
     "name": "stdout",
     "output_type": "stream",
     "text": [
      "{'Hi', 'Hello', 'Muskan', 'Shreya'}\n"
     ]
    }
   ],
   "source": [
    "str1 = \"Hi, my name is Muskan.\"\n",
    "str2 = \"Hello, my name is Shreya\"\n",
    "uncommon_words(str1, str2)"
   ]
  },
  {
   "cell_type": "code",
   "execution_count": 72,
   "metadata": {},
   "outputs": [],
   "source": [
    "# Method 2:\n",
    "import re\n",
    "def find_uncommon(str1, str2):\n",
    "    str1 = re.sub(r'[^\\w\\s]','',str1)\n",
    "    str2 = re.sub(r'[^\\w\\s]','', str2)\n",
    "    l1 = set(str1.split(\" \"))\n",
    "    l2 = set(str2.split(\" \"))\n",
    "    for word in l1:\n",
    "        if word not in l2:\n",
    "            print(word)\n",
    "    for word in l2:\n",
    "        if word not in l1:\n",
    "            print(word)"
   ]
  },
  {
   "cell_type": "code",
   "execution_count": 73,
   "metadata": {},
   "outputs": [
    {
     "name": "stdout",
     "output_type": "stream",
     "text": [
      "Muskan\n",
      "Hi\n",
      "Hello\n",
      "Shreya\n"
     ]
    }
   ],
   "source": [
    "str1 = \"Hi, my name is Muskan.\"\n",
    "str2 = \"Hello, my name is Shreya\"\n",
    "find_uncommon(str1, str2)"
   ]
  },
  {
   "cell_type": "markdown",
   "metadata": {},
   "source": [
    "# 6. Write a Python to find all duplicate characters in string?"
   ]
  },
  {
   "cell_type": "code",
   "execution_count": 77,
   "metadata": {},
   "outputs": [],
   "source": [
    "def duplicates(word):\n",
    "    dups = []\n",
    "    for char in word:\n",
    "        if word.count(char)>1:\n",
    "            dups.append(char)\n",
    "    print(set(dups))"
   ]
  },
  {
   "cell_type": "code",
   "execution_count": 78,
   "metadata": {},
   "outputs": [
    {
     "name": "stdout",
     "output_type": "stream",
     "text": [
      "{'s', 'i'}\n"
     ]
    }
   ],
   "source": [
    "duplicates(\"Mississipi\")"
   ]
  },
  {
   "cell_type": "code",
   "execution_count": 86,
   "metadata": {},
   "outputs": [
    {
     "name": "stdout",
     "output_type": "stream",
     "text": [
      "{'e', 'n'}\n"
     ]
    }
   ],
   "source": [
    "duplicates(\"Phenomenal\")"
   ]
  },
  {
   "cell_type": "code",
   "execution_count": 84,
   "metadata": {},
   "outputs": [],
   "source": [
    "#Method 2\n",
    "\n",
    "def duplicates_2(word):\n",
    "    duplicates = []\n",
    "    for i in range(len(word)):\n",
    "        for j in range(i+1, len(word)):\n",
    "            if word[i]==word[j] and word[j] not in duplicates:\n",
    "                duplicates.append(word[j])\n",
    "    print(duplicates)"
   ]
  },
  {
   "cell_type": "code",
   "execution_count": 85,
   "metadata": {},
   "outputs": [
    {
     "name": "stdout",
     "output_type": "stream",
     "text": [
      "['e', 'n']\n"
     ]
    }
   ],
   "source": [
    "duplicates_2(\"Phenomenal\")"
   ]
  },
  {
   "cell_type": "markdown",
   "metadata": {},
   "source": [
    "# 7. Write a Python Program to check if a string contains any special character?"
   ]
  },
  {
   "cell_type": "code",
   "execution_count": 101,
   "metadata": {},
   "outputs": [],
   "source": [
    "def special_characters(string):\n",
    "    regexobject = re.compile('[!-_=?,;@#$%^&*()<>?/\\|}{~:]')\n",
    "    if regexobject.search(string)==None:\n",
    "        return \"No special characters!\"\n",
    "    else: \n",
    "        return \"Special characters are present!\"\n"
   ]
  },
  {
   "cell_type": "code",
   "execution_count": 102,
   "metadata": {},
   "outputs": [
    {
     "data": {
      "text/plain": [
       "'Special characters are present!'"
      ]
     },
     "execution_count": 102,
     "metadata": {},
     "output_type": "execute_result"
    }
   ],
   "source": [
    "special_characters(\"muskan@bagrecha\")"
   ]
  },
  {
   "cell_type": "code",
   "execution_count": 103,
   "metadata": {},
   "outputs": [
    {
     "data": {
      "text/plain": [
       "'No special characters!'"
      ]
     },
     "execution_count": 103,
     "metadata": {},
     "output_type": "execute_result"
    }
   ],
   "source": [
    "special_characters(\"muskanbagrecha\")"
   ]
  },
  {
   "cell_type": "code",
   "execution_count": 104,
   "metadata": {},
   "outputs": [
    {
     "data": {
      "text/plain": [
       "'Special characters are present!'"
      ]
     },
     "execution_count": 104,
     "metadata": {},
     "output_type": "execute_result"
    }
   ],
   "source": [
    "special_characters(\"hello!!!\")"
   ]
  }
 ],
 "metadata": {
  "kernelspec": {
   "display_name": "Python 3",
   "language": "python",
   "name": "python3"
  },
  "language_info": {
   "codemirror_mode": {
    "name": "ipython",
    "version": 3
   },
   "file_extension": ".py",
   "mimetype": "text/x-python",
   "name": "python",
   "nbconvert_exporter": "python",
   "pygments_lexer": "ipython3",
   "version": "3.8.5"
  }
 },
 "nbformat": 4,
 "nbformat_minor": 4
}
